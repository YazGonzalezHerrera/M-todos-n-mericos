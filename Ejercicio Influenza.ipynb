{
  "nbformat": 4,
  "nbformat_minor": 0,
  "metadata": {
    "colab": {
      "provenance": [],
      "authorship_tag": "ABX9TyMclHKZbEnbJM+NckeeDeKr",
      "include_colab_link": true
    },
    "kernelspec": {
      "name": "python3",
      "display_name": "Python 3"
    },
    "language_info": {
      "name": "python"
    }
  },
  "cells": [
    {
      "cell_type": "markdown",
      "metadata": {
        "id": "view-in-github",
        "colab_type": "text"
      },
      "source": [
        "<a href=\"https://colab.research.google.com/github/YazGonzalezHerrera/Metodos-numericos/blob/main/Ejercicio%20Influenza.ipynb\" target=\"_parent\"><img src=\"https://colab.research.google.com/assets/colab-badge.svg\" alt=\"Open In Colab\"/></a>"
      ]
    },
    {
      "cell_type": "code",
      "execution_count": 1,
      "metadata": {
        "colab": {
          "base_uri": "https://localhost:8080/",
          "height": 593
        },
        "id": "eVW3xVqbT2H9",
        "outputId": "425fb7f5-a50a-484b-b331-a9a3c2c856e8"
      },
      "outputs": [
        {
          "output_type": "stream",
          "name": "stdout",
          "text": [
            "Polinomios resultantes: \n",
            " x = [1.0,2.0]\n",
            "1.0*x**3 - 3.0*x**2 + 4.0*x - 1.0\n",
            " x = [2.0,3.0]\n",
            "2.75*x**3 - 13.5*x**2 + 18.25*x - 1.5\n",
            " x = [3.0,4.0]\n",
            "-3.75*x**3 + 45.0*x**2 - 157.25*x + 174.0\n"
          ]
        },
        {
          "output_type": "display_data",
          "data": {
            "text/plain": [
              "<Figure size 640x480 with 1 Axes>"
            ],
            "image/png": "[encoded data removed]"
          },
          "metadata": {}
        }
      ],
      "source": [
        "#Ejemplo epidemia de influenza\n",
        "import numpy as np\n",
        "import sympy as sym\n",
        "import matplotlib.pyplot as plt\n",
        "\n",
        "def traza3natural(xi,yi):\n",
        "    n = len(xi)\n",
        "\n",
        "    h = np.zeros(n-1, dtype = float)\n",
        "    for j in range(0,n-1,1):\n",
        "        h[j] = xi[j+1] - xi[j]\n",
        "\n",
        "    A = np.zeros(shape=(n-2,n-2), dtype = float)\n",
        "    B = np.zeros(n-2, dtype = float)\n",
        "    S = np.zeros(n, dtype = float)\n",
        "\n",
        "    A[0,0] = 2*(h[0]+h[1])\n",
        "    A[0,0] = h[1]\n",
        "    B[0] = 6*((yi[2]-yi[1])/h[1] - (yi[1]-yi[0])/h[0])\n",
        "\n",
        "    for i in range(1,n-3,1):\n",
        "        A[i,i-1] = h[i]\n",
        "        A[i,i] = 2*(h[i]+h[i+1])\n",
        "        A[i,i+1] = h[i+1]\n",
        "        factor21 = (yi[i+2]-yi[i+1])/h[i+1]\n",
        "        factor10 = (yi[i+1]-yi[i])/h[i]\n",
        "        B[i] = 6*(factor21 - factor10)\n",
        "\n",
        "    A[n-3,n-4] = h[n-3]\n",
        "    A[n-3,n-3] = 2*(h[n-3]+h[n-2])\n",
        "    factor12 = (yi[n-1]-yi[n-2])/h[n-2]\n",
        "    factor23 = (yi[n-2]-yi[n-3])/h[n-3]\n",
        "    B[n-3] = 6*(factor12 - factor23)\n",
        "\n",
        "    r = np.linalg.solve(A,B)\n",
        "    for j in range(1,n-1,1):\n",
        "        S[j] = r[j-1]\n",
        "    S[0] = 0\n",
        "    S[n-1] = 0\n",
        "\n",
        "    a = np.zeros(n-1, dtype = float)\n",
        "    b = np.zeros(n-1, dtype = float)\n",
        "    c = np.zeros(n-1, dtype = float)\n",
        "    d = np.zeros(n-1, dtype = float)\n",
        "    for j in range(0,n-1,1):\n",
        "        a[j] = (S[j+1]-S[j])/(6*h[j])\n",
        "        b[j] = S[j]/2\n",
        "        factor10 = (yi[j+1]-yi[j])/h[j]\n",
        "        c[j] = factor10 - (2*h[j]*S[j]+h[j]*S[j+1])/6\n",
        "        d[j] = yi[j]\n",
        "\n",
        "    x = sym.Symbol('x')\n",
        "    px_tabla = []\n",
        "    for j in range(0,n-1,1):\n",
        "\n",
        "        pxtramo = a[j]*(x-xi[j])**3 + b[j]*(x-xi[j])**2\n",
        "        pxtramo = pxtramo + c[j]*(x-xi[j])+ d[j]\n",
        "\n",
        "        pxtramo = pxtramo.expand()\n",
        "        px_tabla.append(pxtramo)\n",
        "\n",
        "    return(px_tabla)\n",
        "\n",
        "#Ingresamos los datos de nuestro ejemplo\n",
        "xi = np.array([1.0 , 2.0, 3.0, 4.0])\n",
        "fi = np.array([1.0, 3.0, 6.0, 25.0])\n",
        "muestras = 10\n",
        "\n",
        "n = len(xi)\n",
        "px_tabla = traza3natural(xi,fi)\n",
        "\n",
        "print('Polinomios resultantes: ')\n",
        "for tramo in range(1,n,1):\n",
        "    print(' x = ['+str(xi[tramo-1])\n",
        "          +','+str(xi[tramo])+']')\n",
        "    print(str(px_tabla[tramo-1]))\n",
        "\n",
        "#Datos para saber la gráfica\n",
        "xtraza = np.array([])\n",
        "ytraza = np.array([])\n",
        "tramo = 1\n",
        "while not(tramo>=n):\n",
        "    a = xi[tramo-1]\n",
        "    b = xi[tramo]\n",
        "    xtramo = np.linspace(a,b,muestras)\n",
        "\n",
        "    pxtramo = px_tabla[tramo-1]\n",
        "    pxt = sym.lambdify('x',pxtramo)\n",
        "    ytramo = pxt(xtramo)\n",
        "\n",
        "    xtraza = np.concatenate((xtraza,xtramo))\n",
        "    ytraza = np.concatenate((ytraza,ytramo))\n",
        "    tramo = tramo + 1\n",
        "\n",
        "plt.plot(xi,fi,'ro', label='puntos')\n",
        "plt.plot(xtraza,ytraza, label='trazador'\n",
        "         , color='gray')\n",
        "plt.title('Spline Cúbico Natural')\n",
        "plt.xlabel('xi')\n",
        "plt.ylabel('fi')\n",
        "plt.legend()\n",
        "plt.show()"
      ]
    },
    {
      "cell_type": "code",
      "source": [],
      "metadata": {
        "id": "W8MhWD6ZXQ-f"
      },
      "execution_count": null,
      "outputs": []
    }
  ]
}
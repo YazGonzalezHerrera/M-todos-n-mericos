{
  "nbformat": 4,
  "nbformat_minor": 0,
  "metadata": {
    "colab": {
      "provenance": [],
      "authorship_tag": "ABX9TyMFdButYsYOWGpO5QQ5XWGP",
      "include_colab_link": true
    },
    "kernelspec": {
      "name": "python3",
      "display_name": "Python 3"
    },
    "language_info": {
      "name": "python"
    }
  },
  "cells": [
    {
      "cell_type": "markdown",
      "metadata": {
        "id": "view-in-github",
        "colab_type": "text"
      },
      "source": [
        "<a href=\"https://colab.research.google.com/github/YazGonzalezHerrera/Metodos-numericos/blob/main/Untitled3.ipynb\" target=\"_parent\"><img src=\"https://colab.research.google.com/assets/colab-badge.svg\" alt=\"Open In Colab\"/></a>"
      ]
    },
    {
      "cell_type": "code",
      "execution_count": null,
      "metadata": {
        "id": "ZIcvD0f2OxC4"
      },
      "outputs": [],
      "source": [
        "from math import *\n",
        "import sympy as sp\n",
        "\n",
        "\n",
        "def puntofijo():\n",
        "    x=sp.symbols('x')\n",
        "    g=input('Ingrese la función ')\n",
        "    g=sp.lambdify(x,g)\n",
        "    x0=input('Ingrese un valor inicial ')\n",
        "    x0=float(x0)\n",
        "    n=input('Ingrese las iteraciones deseadas ')\n",
        "    n=int(n)\n",
        "    tol=input('Ingrese el error máximo permitido ')\n",
        "    tol=float(tol)\n",
        "    for e in range(n):\n",
        "        x1=g(x0)\n",
        "        if(abs(x1-x0)<tol):\n",
        "           print('x',e+1,'=',x1,'es un punto fijo')\n",
        "           return\n",
        "        x0=x1\n",
        "        print('x', e+1, '=', x1)\n",
        "puntofijo()"
      ]
    }
  ]
}
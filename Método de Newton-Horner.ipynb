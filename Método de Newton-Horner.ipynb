{
  "nbformat": 4,
  "nbformat_minor": 0,
  "metadata": {
    "colab": {
      "provenance": [],
      "authorship_tag": "ABX9TyOSs8mXljzcuHgpnr7dGXvP",
      "include_colab_link": true
    },
    "kernelspec": {
      "name": "python3",
      "display_name": "Python 3"
    },
    "language_info": {
      "name": "python"
    }
  },
  "cells": [
    {
      "cell_type": "markdown",
      "metadata": {
        "id": "view-in-github",
        "colab_type": "text"
      },
      "source": [
        "<a href=\"https://colab.research.google.com/github/YazGonzalezHerrera/Metodos-numericos/blob/main/M%C3%A9todo%20de%20Newton-Horner.ipynb\" target=\"_parent\"><img src=\"https://colab.research.google.com/assets/colab-badge.svg\" alt=\"Open In Colab\"/></a>"
      ]
    },
    {
      "cell_type": "code",
      "execution_count": 8,
      "metadata": {
        "colab": {
          "base_uri": "https://localhost:8080/"
        },
        "id": "98bPR49Ia9uE",
        "outputId": "bfcc39d1-a856-4499-c853-fa3330de4583"
      },
      "outputs": [
        {
          "output_type": "stream",
          "name": "stdout",
          "text": [
            "Las raices son: \n",
            "[(2.6486639256035377e-40+1j), 1.0, (-0-1j), -2.23606797749979j, 2.23606797749979j]\n"
          ]
        }
      ],
      "source": [
        "import sympy as sym\n",
        "x = sym.Symbol('x')\n",
        "\n",
        "F1 = x**5-x**4+6*x**3-6*x**2+5*x-5\n",
        "d = complex(2,3)\n",
        "\n",
        "\"\"\"Algoritmo de Horner donde F es la función y r la raíz\n",
        "   Esta función retorna una lista L con todo y los coeficientes del polinomio cociente\"\"\"\n",
        "\n",
        "def horner(F,r):\n",
        "  a = sym.Poly(F,x)\n",
        "  h = a.all_coeffs()\n",
        "  j = a.degree()\n",
        "  L = []\n",
        "  c2 = 0\n",
        "  for i in range(j+1):\n",
        "    c1 = h[i]+c2*r\n",
        "    L.append(c1)\n",
        "    c2 = c1\n",
        "  return (L)\n",
        "\n",
        "def poli(L):\n",
        "  P = 0\n",
        "  L = L[::-1]\n",
        "  for i in range(1,len(L)):\n",
        "      P = P + L[i]*x**(i-1)\n",
        "  return P\n",
        "\n",
        "def eval(j,h):\n",
        "  return j.subs(x,h)\n",
        "\n",
        "def newti(F,p):\n",
        "  for i in range(40):\n",
        "    v1 = horner(F,p)\n",
        "    v2 = poli(v1)\n",
        "    v3 = horner(v2,p)\n",
        "    x = p - (v1[-1])/v3[-1]\n",
        "    p = x.evalf()\n",
        "  return (v2,p)\n",
        "\n",
        "G = sym.Poly(F1).degree()\n",
        "\n",
        "a = newti(F1,d)\n",
        "L = []\n",
        "L.append(a[1])\n",
        "for i in range(G-1):\n",
        "  a = newti(a[0],a[1])\n",
        "  L.append(a[1])\n",
        "\n",
        "n = []\n",
        "for i in L:\n",
        "  if type(i) == sym.Float:\n",
        "    n.append(i)\n",
        "    continue\n",
        "  bb = complex(0,0.0000000000000001).imag\n",
        "  cc = complex(i).imag\n",
        "  if abs(cc)<abs(bb):\n",
        "    n.append(complex(i).real)\n",
        "  else:\n",
        "    n.append(complex(i))\n",
        "print(\"Las raices son: \")\n",
        "print(n)"
      ]
    }
  ]
}
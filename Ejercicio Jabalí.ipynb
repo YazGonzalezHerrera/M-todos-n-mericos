{
  "nbformat": 4,
  "nbformat_minor": 0,
  "metadata": {
    "colab": {
      "provenance": [],
      "authorship_tag": "ABX9TyPoLTJAMNasnGnvehJGMP6S",
      "include_colab_link": true
    },
    "kernelspec": {
      "name": "python3",
      "display_name": "Python 3"
    },
    "language_info": {
      "name": "python"
    }
  },
  "cells": [
    {
      "cell_type": "markdown",
      "metadata": {
        "id": "view-in-github",
        "colab_type": "text"
      },
      "source": [
        "<a href=\"https://colab.research.google.com/github/YazGonzalezHerrera/Metodos-numericos/blob/main/Ejercicio%20Jabal%C3%AD.ipynb\" target=\"_parent\"><img src=\"https://colab.research.google.com/assets/colab-badge.svg\" alt=\"Open In Colab\"/></a>"
      ]
    },
    {
      "cell_type": "code",
      "execution_count": 14,
      "metadata": {
        "colab": {
          "base_uri": "https://localhost:8080/"
        },
        "id": "K8Nu5IBE21_3",
        "outputId": "ae04d478-0fd7-47e5-b909-4366f1459fcf"
      },
      "outputs": [
        {
          "output_type": "stream",
          "name": "stdout",
          "text": [
            "Solución (a).\n",
            "Se obtiene a partir del análisis de la integral de la ecuación diferencial, es una ecuación de variables separables que se puede integrar fácilmente:\n",
            "In({x - a}/{{x}_{0} - a})=-kt\n",
            "In({31 - 21}/{29 - 21})=In 1.25=0.22314\n",
            "t=-1/0.22314*In({37 - 21}/{31 - 21})=-1/0.22314*In 1.6=2.10630\n",
            "Por lo tanto el tiempo entre el disparo y el momento en que fueron detenidos fue de 2 horas 6 minutos.\n",
            "Solución (b).\n",
            "Ahora integramos la segunda ecuación del problema.\n",
            "x=(37-t*- 1/k)e^-kt + t* - t + 1/k\n",
            "(37-t*- 1/k)e^-kt + 1/k=30\n",
            "(37-t*- 1/k)e^-kt(t*+1) + 1/k=26\n",
            "(37- 1/k)e^k - 26 + 1/k=0\n",
            "x=(30 - 1/k)e^-kt - t + 1/k\n",
            "30k - 1 +(1-26k)e^k=0\n",
            "(37k - 1 + kt)e^kt - 30k + 1=0\n",
            "(ax + b)e^kx + cx + d=0\n",
            "Al ingresar los valores del polinomio al método de Newton Rapson se obtiene la raíz y se sabe que el jabalí murio 1 hora y 12 minutos antes de ser encontrado.\n"
          ]
        }
      ],
      "source": [
        "import numpy as np\n",
        "import pandas as pd\n",
        "import matplotlib.pyplot as plt\n",
        "\n",
        "#1. Durante una ronda de inspección por una reserva, dos guardabosques descubrieron\n",
        "#el cadáver de un jabalí. Un examen preliminar permitió concluir que el animal falleció\n",
        "#instantáneamente a causa de un balazo de una cazador furtivo. sospechando que el\n",
        "#cazador debía regresar a recoger su presa, los guardas decidieron esperarlo escon-\n",
        "#didos no lejos del lugar del crimen. Al poco tiempo aparecieron dos sujetos y se diri-\n",
        "#gieron sin rodeos al jabalí. Al ser detenidos los desconocidos negaron rotundamente\n",
        "#su participación en el delito. Aunque los guardabosques tenían pruebas indirectas\n",
        "#de su culpabilidad, para obtener una prueba fehaciente era necesario determinar el\n",
        "#instante exacto en que el jabalí fue muerto.\n",
        "#Conforme a la ley de radiación de calor la velocidad de enfriamiento de un cuerpo en\n",
        "#el medio ambiente es proporcionar a la diferencia. Entre la temperatura del cuerpo y\n",
        "#la temperatura del medio\n",
        "\n",
        "#(dx\n",
        "# dt) = k(x-a)\n",
        "\n",
        "#Donde x es la temperatura del cuerpo en el instante t, a es la temperatura del me-\n",
        "#dio ambiente y k es un factor positivo de proporcionalidad, x0 es la temperatura del\n",
        "#cuerpo en el instante t = 0.\n",
        "\n",
        " #(a) Si en el instante en que fueron detenidos los sospechosos la temperatura x del\n",
        "#cuerpo del jabalí era igual a 31°C y pasada una hora era igual a 29°C, entonces,\n",
        "#considerando que en el instante del disparo x = 37C y a = 21C, y tomando el\n",
        "#instante del arresto como t = 0, determinar el momento del disparo.\n",
        "\n",
        "#(b) En el caso cuando la temperatura del aire varía con el tiempo, la ley de enfria-\n",
        "#miento del cuerpo se convierte en la ecuación diferencial lineal no homogénea.\n",
        "\n",
        "#dx\n",
        "#dt = kx-ka(t),\n",
        "\n",
        "#Donde a(t) es la temperatura del aire en el instante t. Hagamos algunas conjetu-\n",
        "#ras: en el instante de la detención de los sospechosos la temperatura del cuerpo\n",
        "#del jabalí era igual a 30°C; el día del acontecimiento la temperatura del aire des-\n",
        "#cendió cada hora después del medio día en 1°C y era igual a 0°C en el instante\n",
        "#del hallazgo del cadáver; finalmente, pongamos que al cabo de una hora de ser\n",
        "#detectado el animal, su temperatura bajó hasta 25°C. Tomando t = 0 como en el\n",
        "#instante del disparo, asumiendo que entonces la temperatura corporal del jabalí\n",
        "#era x0 = 37C y denotando con t* el instante en que los guardabosques descu-\n",
        "#brieron el cadáver, obtenemos a(t) = t*- t. Hallar de nuevo el momento en que\n",
        "#murió el jabalí.\n",
        "\n",
        "print(\"Solución (a).\")\n",
        "print(\"Se obtiene a partir del análisis de la integral de la ecuación diferencial, es una ecuación de variables separables que se puede integrar fácilmente:\")\n",
        "print(\"In({x - a}/{{x}_{0} - a})=-kt\")\n",
        "print(\"In({31 - 21}/{29 - 21})=In 1.25=0.22314\")\n",
        "print(\"t=-1/0.22314*In({37 - 21}/{31 - 21})=-1/0.22314*In 1.6=2.10630\")\n",
        "print(\"Por lo tanto el tiempo entre el disparo y el momento en que fueron detenidos fue de 2 horas 6 minutos.\")\n",
        "\n",
        "print(\"Solución (b).\")\n",
        "print(\"Ahora integramos la segunda ecuación del problema.\")\n",
        "print(\"x=(37-t*- 1/k)e^-kt + t* - t + 1/k\")\n",
        "print(\"(37-t*- 1/k)e^-kt + 1/k=30\")\n",
        "print(\"(37-t*- 1/k)e^-kt(t*+1) + 1/k=26\")\n",
        "print(\"(37- 1/k)e^k - 26 + 1/k=0\")\n",
        "print(\"x=(30 - 1/k)e^-kt - t + 1/k\")\n",
        "print(\"30k - 1 +(1-26k)e^k=0\")\n",
        "print(\"(37k - 1 + kt)e^kt - 30k + 1=0\")\n",
        "print(\"(ax + b)e^kx + cx + d=0\")\n",
        "print(\"Al ingresar los valores del polinomio al método de Newton Rapson se obtiene la raíz y se sabe que el jabalí murio 1 hora y 12 minutos antes de ser encontrado.\")"
      ]
    }
  ]
}
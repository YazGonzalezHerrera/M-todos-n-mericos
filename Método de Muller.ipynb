{
  "nbformat": 4,
  "nbformat_minor": 0,
  "metadata": {
    "colab": {
      "provenance": [],
      "authorship_tag": "ABX9TyP6dPO1Kwk8SiW/SEP00+TQ",
      "include_colab_link": true
    },
    "kernelspec": {
      "name": "python3",
      "display_name": "Python 3"
    },
    "language_info": {
      "name": "python"
    }
  },
  "cells": [
    {
      "cell_type": "markdown",
      "metadata": {
        "id": "view-in-github",
        "colab_type": "text"
      },
      "source": [
        "<a href=\"https://colab.research.google.com/github/YazGonzalezHerrera/Metodos-numericos/blob/main/M%C3%A9todo%20de%20Muller.ipynb\" target=\"_parent\"><img src=\"https://colab.research.google.com/assets/colab-badge.svg\" alt=\"Open In Colab\"/></a>"
      ]
    },
    {
      "cell_type": "code",
      "execution_count": 1,
      "metadata": {
        "id": "H9jqGzE9kgmj"
      },
      "outputs": [],
      "source": [
        "import math\n",
        "\n",
        "def muller(f, x0, x1, x2, epsilon=1e-10, max_iter=100):\n",
        "    h1 = x1 - x0\n",
        "    h2 = x2 - x1\n",
        "    y1 = (f(x1) - f(x0)) / h1\n",
        "    y2 = (f(x2) - f(x1)) / h2\n",
        "    d = (y2 - y1) / (h2 + h1)\n",
        "    n_iter = 3\n",
        "    x = None\n",
        "\n",
        "    while n_iter <= max_iter:\n",
        "        b = y2 + h2*d\n",
        "        D = math.sqrt(b**2 - 4*f(x2)*d)\n",
        "\n",
        "        if abs(b-D) < abs(b+D):\n",
        "            E = b + D\n",
        "        else:\n",
        "            E = b - D\n",
        "\n",
        "        h = -2*f(x2)/E\n",
        "        p = x2 + h\n",
        "\n",
        "        if abs(h) < epsilon:\n",
        "            x = p\n",
        "            break\n",
        "\n",
        "        x0, x1, x2 = x1, x2, p\n",
        "        h1 = x1 - x0\n",
        "        h2 = x2 - x1\n",
        "        y1 = (f(x1) - f(x0)) / h1\n",
        "        y2 = (f(x2) - f(x1)) / h2\n",
        "        d = (y2 - y1) / (h2 + h1)\n",
        "        n_iter += 1\n",
        "\n",
        "    if x is None:\n",
        "        raise ValueError(\"El método no converge\")\n",
        "\n",
        "    return x"
      ]
    }
  ]
}